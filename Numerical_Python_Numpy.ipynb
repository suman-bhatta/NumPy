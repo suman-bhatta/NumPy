{
  "cells": [
    {
      "cell_type": "markdown",
      "metadata": {
        "id": "VrlYF6KTMPES"
      },
      "source": [
        "Numerical Python - Numpy\n",
        "\n",
        "\n",
        "Advantages of Arrays in Numpy:\n",
        "\n",
        "\n",
        "*   Allows several Mathematical Operations\n",
        "*   Faster Operation\n",
        "\n",
        "\n"
      ]
    },
    {
      "cell_type": "code",
      "execution_count": null,
      "metadata": {
        "id": "0JM09nVMLlrZ"
      },
      "outputs": [],
      "source": [
        "import numpy as np"
      ]
    },
    {
      "cell_type": "markdown",
      "metadata": {
        "id": "e9I7AmA7MEXp"
      },
      "source": [
        "List vs Numpy - Time Taken"
      ]
    },
    {
      "cell_type": "code",
      "execution_count": null,
      "metadata": {
        "id": "nNYipZuVPFWZ"
      },
      "outputs": [],
      "source": [
        "from time import process_time"
      ]
    },
    {
      "cell_type": "markdown",
      "metadata": {
        "id": "szVuISYIPnmo"
      },
      "source": [
        "Time taken by a list"
      ]
    },
    {
      "cell_type": "code",
      "execution_count": null,
      "metadata": {
        "colab": {
          "base_uri": "https://localhost:8080/"
        },
        "id": "OML-TuIMPrrh",
        "outputId": "f282272b-9e76-4f18-f589-ab608fda26f8"
      },
      "outputs": [
        {
          "name": "stdout",
          "output_type": "stream",
          "text": [
            "0.001363705999999354\n"
          ]
        }
      ],
      "source": [
        "python_list = [i for i in range (10000)]\n",
        "\n",
        "start_time = process_time()\n",
        "\n",
        "python_list = [i+5 for i in python_list]\n",
        "\n",
        "end_time = process_time()\n",
        "\n",
        "print(end_time - start_time)"
      ]
    },
    {
      "cell_type": "code",
      "execution_count": null,
      "metadata": {
        "colab": {
          "base_uri": "https://localhost:8080/"
        },
        "id": "x6DHoqBnSZl0",
        "outputId": "c599c0ff-a0b4-4c36-e979-b59595143d17"
      },
      "outputs": [
        {
          "name": "stdout",
          "output_type": "stream",
          "text": [
            "0.0016002499999991926\n"
          ]
        }
      ],
      "source": [
        "np_array = np.array([i for i in range(1000)])\n",
        "\n",
        "start_time = process_time()\n",
        "\n",
        "np_array += 5 # np_array = np_array + 5\n",
        "\n",
        "end_time = process_time()\n",
        "\n",
        "print(end_time - start_time)"
      ]
    },
    {
      "cell_type": "markdown",
      "metadata": {
        "id": "YpAmBthma8uN"
      },
      "source": [
        "Numpy Arrays"
      ]
    },
    {
      "cell_type": "code",
      "execution_count": null,
      "metadata": {
        "colab": {
          "base_uri": "https://localhost:8080/"
        },
        "id": "IR5dvq2CbDBw",
        "outputId": "dd787a54-a5fe-4b60-e55c-ffc3073f8a4f"
      },
      "outputs": [
        {
          "name": "stdout",
          "output_type": "stream",
          "text": [
            "[1, 2, 3, 4, 5]\n",
            "[1, 2, 3, 4, 5]\n"
          ]
        },
        {
          "data": {
            "text/plain": [
              "list"
            ]
          },
          "execution_count": 2,
          "metadata": {},
          "output_type": "execute_result"
        }
      ],
      "source": [
        "# list\n",
        "\n",
        "list1 = [1,2,3,4,5]\n",
        "print(list1)\n",
        "type(list1)\n",
        "print(list1)\n",
        "type(list1)"
      ]
    },
    {
      "cell_type": "code",
      "execution_count": null,
      "metadata": {
        "colab": {
          "base_uri": "https://localhost:8080/"
        },
        "id": "F_BvIqXBcWot",
        "outputId": "8ac5268e-da17-4d4c-91e5-ec08fa059c1c"
      },
      "outputs": [
        {
          "name": "stdout",
          "output_type": "stream",
          "text": [
            "[1 2 3 4 5]\n"
          ]
        },
        {
          "data": {
            "text/plain": [
              "numpy.ndarray"
            ]
          },
          "execution_count": 5,
          "metadata": {},
          "output_type": "execute_result"
        }
      ],
      "source": [
        "import numpy as np\n",
        "\n",
        "np_array = np.array([1,2,3,4,5])\n",
        "print(np_array)\n",
        "type(np_array)"
      ]
    },
    {
      "cell_type": "code",
      "execution_count": null,
      "metadata": {
        "colab": {
          "base_uri": "https://localhost:8080/"
        },
        "id": "ZMjg29XmdO5e",
        "outputId": "e1adb3e3-5d28-412d-8511-9d8c7a9360ba"
      },
      "outputs": [
        {
          "name": "stdout",
          "output_type": "stream",
          "text": [
            "[1 2 3 4]\n"
          ]
        }
      ],
      "source": [
        "# Creatig 1 D array\n",
        "a = np.array([1,2,3,4])\n",
        "print(a)"
      ]
    },
    {
      "cell_type": "code",
      "execution_count": null,
      "metadata": {
        "colab": {
          "base_uri": "https://localhost:8080/"
        },
        "id": "rs_H72sjdhWq",
        "outputId": "30d8ce84-f5d1-49fd-ca69-ee3ae5e90a7c"
      },
      "outputs": [
        {
          "data": {
            "text/plain": [
              "(4,)"
            ]
          },
          "execution_count": 7,
          "metadata": {},
          "output_type": "execute_result"
        }
      ],
      "source": [
        "a.shape"
      ]
    },
    {
      "cell_type": "code",
      "execution_count": null,
      "metadata": {
        "colab": {
          "base_uri": "https://localhost:8080/"
        },
        "id": "ijHjs7rxdg88",
        "outputId": "3b4d70fd-aff4-4476-a6b0-85ed3d2abf76"
      },
      "outputs": [
        {
          "name": "stdout",
          "output_type": "stream",
          "text": [
            "[[1 2 3 4]\n",
            " [5 6 7 8]]\n"
          ]
        }
      ],
      "source": [
        "b = np.array([(1,2,3,4),(5,6,7,8)])\n",
        "print(b)"
      ]
    },
    {
      "cell_type": "code",
      "execution_count": null,
      "metadata": {
        "colab": {
          "base_uri": "https://localhost:8080/"
        },
        "id": "ipbH6teQdq03",
        "outputId": "1392742f-2556-4778-c21a-be43c06d1baa"
      },
      "outputs": [
        {
          "data": {
            "text/plain": [
              "(2, 4)"
            ]
          },
          "execution_count": 9,
          "metadata": {},
          "output_type": "execute_result"
        }
      ],
      "source": [
        "b.shape"
      ]
    },
    {
      "cell_type": "code",
      "execution_count": null,
      "metadata": {
        "colab": {
          "base_uri": "https://localhost:8080/"
        },
        "id": "M5W9tWS2dwjN",
        "outputId": "577c8015-0b27-45b5-e2a6-60ad6f525688"
      },
      "outputs": [
        {
          "name": "stdout",
          "output_type": "stream",
          "text": [
            "[[1. 2. 3. 4.]\n",
            " [5. 6. 7. 8.]]\n"
          ]
        }
      ],
      "source": [
        "c = np.array([(1,2,3,4),(5,6,7,8)],dtype=float)\n",
        "print(c)"
      ]
    },
    {
      "cell_type": "markdown",
      "metadata": {
        "id": "0N0d6dPLd_F4"
      },
      "source": []
    },
    {
      "cell_type": "markdown",
      "metadata": {
        "id": "RA1RbqE8d-Ek"
      },
      "source": [
        "Initial Placeholder in numpy arrays"
      ]
    },
    {
      "cell_type": "code",
      "execution_count": null,
      "metadata": {
        "colab": {
          "base_uri": "https://localhost:8080/"
        },
        "id": "mvxqLzV1eISK",
        "outputId": "7bdd718c-85bc-4942-9037-aa090863a15e"
      },
      "outputs": [
        {
          "ename": "",
          "evalue": "",
          "output_type": "error",
          "traceback": [
            "\u001b[1;31mRunning cells with '.venv (Python 3.13.1)' requires the ipykernel package.\n",
            "\u001b[1;31mRun the following command to install 'ipykernel' into the Python environment. \n",
            "\u001b[1;31mCommand: 'd:/Learning/NumPy/.venv/Scripts/python.exe -m pip install ipykernel -U --force-reinstall'"
          ]
        }
      ],
      "source": [
        "# Create a bunpy array of Zero\n",
        "x = np.zeros((4,5))\n",
        "print(x)"
      ]
    },
    {
      "cell_type": "code",
      "execution_count": null,
      "metadata": {
        "colab": {
          "base_uri": "https://localhost:8080/"
        },
        "id": "PiabzhgVeVZg",
        "outputId": "4053dabc-0cf2-473e-ff7e-18afd751d268"
      },
      "outputs": [
        {
          "name": "stdout",
          "output_type": "stream",
          "text": [
            "[[1. 1. 1.]\n",
            " [1. 1. 1.]\n",
            " [1. 1. 1.]]\n"
          ]
        }
      ],
      "source": [
        "# Create a numpy array of ones\n",
        "y = np.ones((3,3))\n",
        "print(y)"
      ]
    },
    {
      "cell_type": "code",
      "execution_count": null,
      "metadata": {
        "colab": {
          "base_uri": "https://localhost:8080/"
        },
        "id": "H4AjY7STef7s",
        "outputId": "56227711-b71d-48be-c602-ce093a190db3"
      },
      "outputs": [
        {
          "name": "stdout",
          "output_type": "stream",
          "text": [
            "[[5 5 5 5]\n",
            " [5 5 5 5]\n",
            " [5 5 5 5]\n",
            " [5 5 5 5]\n",
            " [5 5 5 5]]\n"
          ]
        }
      ],
      "source": [
        "# Array of a particular value\n",
        "z = np.full((5,4),5)\n",
        "print(z)"
      ]
    },
    {
      "cell_type": "code",
      "execution_count": null,
      "metadata": {
        "colab": {
          "base_uri": "https://localhost:8080/"
        },
        "id": "Vggw1g-3esMZ",
        "outputId": "84516c2e-5755-43ab-f8ae-6658cf8f00b6"
      },
      "outputs": [
        {
          "name": "stdout",
          "output_type": "stream",
          "text": [
            "[[1. 0. 0. 0. 0.]\n",
            " [0. 1. 0. 0. 0.]\n",
            " [0. 0. 1. 0. 0.]\n",
            " [0. 0. 0. 1. 0.]\n",
            " [0. 0. 0. 0. 1.]]\n"
          ]
        }
      ],
      "source": [
        "# Create an identity matrix\n",
        "a = np.eye(5)\n",
        "print(a)"
      ]
    },
    {
      "cell_type": "code",
      "execution_count": null,
      "metadata": {
        "colab": {
          "base_uri": "https://localhost:8080/"
        },
        "id": "8raphtLRfJAm",
        "outputId": "ee662cff-acf0-447a-f612-72e8a2a4a5fd"
      },
      "outputs": [
        {
          "name": "stdout",
          "output_type": "stream",
          "text": [
            "[[0.33200822 0.13784699 0.86542447 0.05678324]\n",
            " [0.90393125 0.60474348 0.76546498 0.02770164]\n",
            " [0.52088197 0.03970197 0.00193991 0.62306126]]\n"
          ]
        }
      ],
      "source": [
        "# Create a numpy array with random values\n",
        "b = np.random.random((3,4))\n",
        "print(b)"
      ]
    },
    {
      "cell_type": "code",
      "execution_count": null,
      "metadata": {
        "colab": {
          "base_uri": "https://localhost:8080/"
        },
        "id": "W13gQDiPfW2O",
        "outputId": "72fc9e06-9c0e-4058-fdf6-680b892e319f"
      },
      "outputs": [
        {
          "name": "stdout",
          "output_type": "stream",
          "text": [
            "[[97 37 54 61 36]\n",
            " [14 54 91 11 87]\n",
            " [14 45 68 26 36]]\n"
          ]
        }
      ],
      "source": [
        "# Random integer values array within a specific range\n",
        "c = np.random.randint(10,100,(3,5))\n",
        "print(c)"
      ]
    },
    {
      "cell_type": "code",
      "execution_count": null,
      "metadata": {
        "colab": {
          "base_uri": "https://localhost:8080/"
        },
        "id": "yFsCcHwjfjTl",
        "outputId": "f2e35780-55a1-4383-e55f-4819df1a9e7d"
      },
      "outputs": [
        {
          "name": "stdout",
          "output_type": "stream",
          "text": [
            "[10. 14. 18. 22. 26. 30.]\n"
          ]
        }
      ],
      "source": [
        "# Array of evemly spaced values: Specifying the number of values required\n",
        "d = np.linspace(10,30,6)\n",
        "print(d)"
      ]
    },
    {
      "cell_type": "code",
      "execution_count": null,
      "metadata": {
        "colab": {
          "base_uri": "https://localhost:8080/"
        },
        "id": "rSYj5KDnfvbk",
        "outputId": "6c8cb603-5dcb-46cb-b568-c32f9bfb0d5d"
      },
      "outputs": [
        {
          "name": "stdout",
          "output_type": "stream",
          "text": [
            "[10 15 20 25]\n"
          ]
        }
      ],
      "source": [
        "# Array of evenly spaced values: specifying the step\n",
        "e = np.arange(10,30,5)\n",
        "print(e)"
      ]
    },
    {
      "cell_type": "code",
      "execution_count": null,
      "metadata": {
        "colab": {
          "base_uri": "https://localhost:8080/"
        },
        "id": "4Uvnz-pSgRaa",
        "outputId": "89cc6ff1-a434-4db5-d701-16827d01b342"
      },
      "outputs": [
        {
          "name": "stdout",
          "output_type": "stream",
          "text": [
            "[10 20 20 20 50]\n"
          ]
        },
        {
          "data": {
            "text/plain": [
              "numpy.ndarray"
            ]
          },
          "execution_count": 22,
          "metadata": {},
          "output_type": "execute_result"
        }
      ],
      "source": [
        "# Convert a list into a numpy array\n",
        "list2 = [10,20,20,20,50]\n",
        "\n",
        "np_array = np.asarray(list2)\n",
        "print(np_array)\n",
        "type(np_array)"
      ]
    },
    {
      "cell_type": "markdown",
      "metadata": {
        "id": "_x1ga70mgeP2"
      },
      "source": [
        "Analysing a numpy array"
      ]
    },
    {
      "cell_type": "code",
      "execution_count": null,
      "metadata": {
        "colab": {
          "base_uri": "https://localhost:8080/"
        },
        "id": "T-SyHcz_gixS",
        "outputId": "43573339-d8c8-4a0a-c58f-e20ed3479a2a"
      },
      "outputs": [
        {
          "name": "stdout",
          "output_type": "stream",
          "text": [
            "[[80 24 49 26 25]\n",
            " [31 41 61 76 30]\n",
            " [58 26 16 82 56]\n",
            " [32 67 27 45 42]\n",
            " [53 38 24 25 80]]\n"
          ]
        }
      ],
      "source": [
        "c = np.random.randint(10,90,(5,5))\n",
        "print(c)"
      ]
    },
    {
      "cell_type": "code",
      "execution_count": null,
      "metadata": {
        "colab": {
          "base_uri": "https://localhost:8080/"
        },
        "id": "bFcyl7PCguyu",
        "outputId": "caca73b4-9909-48b9-ac67-a8cf27568987"
      },
      "outputs": [
        {
          "name": "stdout",
          "output_type": "stream",
          "text": [
            "(5, 5)\n"
          ]
        }
      ],
      "source": [
        "# Array dimension\n",
        "print(c.shape)"
      ]
    },
    {
      "cell_type": "code",
      "execution_count": null,
      "metadata": {
        "colab": {
          "base_uri": "https://localhost:8080/"
        },
        "id": "xVmJYSvmg1Fl",
        "outputId": "cae0eb2b-ee6d-43d2-c18e-18ccc1971ddc"
      },
      "outputs": [
        {
          "name": "stdout",
          "output_type": "stream",
          "text": [
            "2\n"
          ]
        }
      ],
      "source": [
        "# Number of dimension\n",
        "print(c.ndim)"
      ]
    },
    {
      "cell_type": "code",
      "execution_count": null,
      "metadata": {
        "colab": {
          "base_uri": "https://localhost:8080/"
        },
        "id": "Hll0x6Qvg896",
        "outputId": "8786457d-3b25-45a9-cfec-ab910a792ec5"
      },
      "outputs": [
        {
          "name": "stdout",
          "output_type": "stream",
          "text": [
            "25\n"
          ]
        }
      ],
      "source": [
        "# Number of elements in an array\n",
        "print(c.size)"
      ]
    },
    {
      "cell_type": "code",
      "execution_count": null,
      "metadata": {
        "colab": {
          "base_uri": "https://localhost:8080/"
        },
        "id": "8YpawjObhC6v",
        "outputId": "e0e29e00-6d48-4b57-ba48-e239c2c5ed92"
      },
      "outputs": [
        {
          "name": "stdout",
          "output_type": "stream",
          "text": [
            "int64\n"
          ]
        }
      ],
      "source": [
        "# Checking the data type of the value in an array\n",
        "print(c.dtype)"
      ]
    },
    {
      "cell_type": "markdown",
      "metadata": {
        "id": "lGdAe_C-hMGv"
      },
      "source": [
        "Mathematical Operations on a numpy array"
      ]
    },
    {
      "cell_type": "code",
      "execution_count": null,
      "metadata": {
        "colab": {
          "base_uri": "https://localhost:8080/"
        },
        "id": "erao-HJuhShI",
        "outputId": "091cf405-8dae-4ebf-b4ea-dc1c18307f17"
      },
      "outputs": [
        {
          "name": "stdout",
          "output_type": "stream",
          "text": [
            "[1, 2, 3, 4, 5, 6, 7, 8, 9, 10]\n"
          ]
        }
      ],
      "source": [
        "list1 = [1,2,3,4,5]\n",
        "list2 = [6,7,8,9,10]\n",
        "\n",
        "print(list1 + list2) # Concatenate or joins two list"
      ]
    },
    {
      "cell_type": "code",
      "execution_count": null,
      "metadata": {
        "id": "Iif0HLOkhnCb"
      },
      "outputs": [],
      "source": [
        "import numpy as np\n",
        "\n",
        "a = np.random.randint(0,10,(3,3))\n",
        "b = np.random.randint(10,20,(3,3))\n"
      ]
    },
    {
      "cell_type": "code",
      "execution_count": null,
      "metadata": {
        "colab": {
          "base_uri": "https://localhost:8080/"
        },
        "id": "g6tvDAZFh107",
        "outputId": "2b09a049-1305-47a9-91a1-a5ac9685e251"
      },
      "outputs": [
        {
          "name": "stdout",
          "output_type": "stream",
          "text": [
            "[[3 9 2]\n",
            " [2 1 5]\n",
            " [9 8 0]]\n",
            "<module 'numpy.random' from '/usr/local/lib/python3.10/dist-packages/numpy/random/__init__.py'>\n"
          ]
        }
      ],
      "source": [
        "print(a)\n",
        "print(b)"
      ]
    },
    {
      "cell_type": "code",
      "execution_count": null,
      "metadata": {
        "colab": {
          "base_uri": "https://localhost:8080/"
        },
        "id": "YIYU-853h95c",
        "outputId": "ab96ebe5-6a3f-468a-c5d0-b3db81912ddf"
      },
      "outputs": [
        {
          "name": "stdout",
          "output_type": "stream",
          "text": [
            "[[16 24 21]\n",
            " [20 25 19]\n",
            " [24 11 19]]\n",
            "[[ -8  -8 -13]\n",
            " [-10 -13 -15]\n",
            " [-10  -9 -17]]\n",
            "[[ 48 128  68]\n",
            " [ 75 114  34]\n",
            " [119  10  18]]\n",
            "[[0.33333333 0.5        0.23529412]\n",
            " [0.33333333 0.31578947 0.11764706]\n",
            " [0.41176471 0.1        0.05555556]]\n"
          ]
        }
      ],
      "source": [
        "print(a+b)\n",
        "print(a-b)\n",
        "print(a*b)\n",
        "print(a/b)"
      ]
    },
    {
      "cell_type": "code",
      "execution_count": null,
      "metadata": {
        "id": "3YMHWHrBjLfI"
      },
      "outputs": [],
      "source": [
        "a = np.random.randint(0,10,(3,3))\n",
        "b = np.random.randint(10,20,(3,3))"
      ]
    },
    {
      "cell_type": "code",
      "execution_count": 11,
      "metadata": {
        "colab": {
          "base_uri": "https://localhost:8080/"
        },
        "id": "n88RelkljM4G",
        "outputId": "acb78524-e171-499e-824f-e02b91c8d58e"
      },
      "outputs": [
        {
          "name": "stdout",
          "output_type": "stream",
          "text": [
            "[[5 4 6]\n",
            " [7 2 9]]\n",
            "[[5 4]\n",
            " [6 7]\n",
            " [2 9]]\n"
          ]
        }
      ],
      "source": [
        "print(a)\n",
        "print(b)"
      ]
    },
    {
      "cell_type": "code",
      "execution_count": 17,
      "metadata": {
        "colab": {
          "base_uri": "https://localhost:8080/"
        },
        "id": "bEBE5zeGjTaJ",
        "outputId": "ff29fa8f-e1ab-4444-d534-8d08fd099448"
      },
      "outputs": [
        {
          "name": "stdout",
          "output_type": "stream",
          "text": [
            "[[10 10  8]\n",
            " [11  9 18]]\n",
            "[[ 0 -2  4]\n",
            " [ 3 -5  0]]\n",
            "[[25 24 12]\n",
            " [28 14 81]]\n",
            "[[1.         0.66666667 3.        ]\n",
            " [1.75       0.28571429 1.        ]]\n"
          ]
        }
      ],
      "source": [
        "b_transposed = b.T\n",
        "print(np.add(a, b_transposed))\n",
        "print(np.subtract(a, b_transposed))\n",
        "print(np.multiply(a, b_transposed))\n",
        "print(np.divide(a, b_transposed))\n"
      ]
    },
    {
      "cell_type": "markdown",
      "metadata": {
        "id": "yPTrs3BpjZqm"
      },
      "source": [
        "Array manipulation"
      ]
    },
    {
      "cell_type": "code",
      "execution_count": 14,
      "metadata": {
        "colab": {
          "base_uri": "https://localhost:8080/"
        },
        "id": "oqz6Of1PjdfS",
        "outputId": "6e846956-4ff8-4123-c095-27ef89797766"
      },
      "outputs": [
        {
          "name": "stdout",
          "output_type": "stream",
          "text": [
            "[[2 0 6]\n",
            " [8 8 6]]\n",
            "(2, 3)\n"
          ]
        }
      ],
      "source": [
        "array = np.random.randint(0,10,(2,3))\n",
        "print(array)\n",
        "print(array.shape)"
      ]
    },
    {
      "cell_type": "code",
      "execution_count": null,
      "metadata": {
        "id": "Bc2cmR1bjjZU"
      },
      "outputs": [],
      "source": [
        "# Transpose\n",
        "trans = np.transpose(array)\n",
        "print(trans)\n",
        "print(trans.shape)"
      ]
    },
    {
      "cell_type": "code",
      "execution_count": 7,
      "metadata": {
        "colab": {
          "base_uri": "https://localhost:8080/"
        },
        "id": "8oPJcvOEjx0s",
        "outputId": "1d160205-a98b-47e0-a627-2b12acc2d092"
      },
      "outputs": [
        {
          "name": "stdout",
          "output_type": "stream",
          "text": [
            "[[5 4 6]\n",
            " [7 2 9]]\n",
            "(2, 3)\n"
          ]
        }
      ],
      "source": [
        "# Reshaping a array\n",
        "import numpy as np\n",
        "a = np.random.randint(0,10,(2,3))\n",
        "print(a)\n",
        "print(a.shape)"
      ]
    },
    {
      "cell_type": "code",
      "execution_count": 8,
      "metadata": {
        "colab": {
          "base_uri": "https://localhost:8080/"
        },
        "id": "UYdgDJyUQ3Vb",
        "outputId": "07e76c5c-9d17-4610-ca0c-0b2a36a933ad"
      },
      "outputs": [
        {
          "name": "stdout",
          "output_type": "stream",
          "text": [
            "[[5 4]\n",
            " [6 7]\n",
            " [2 9]]\n",
            "(3, 2)\n"
          ]
        }
      ],
      "source": [
        "import numpy as np\n",
        "\n",
        "b = a.reshape(3,2)\n",
        "print(b)\n",
        "print(b.shape)"
      ]
    }
  ],
  "metadata": {
    "colab": {
      "provenance": []
    },
    "kernelspec": {
      "display_name": ".venv",
      "language": "python",
      "name": "python3"
    },
    "language_info": {
      "name": "python",
      "version": "3.13.1"
    }
  },
  "nbformat": 4,
  "nbformat_minor": 0
}
